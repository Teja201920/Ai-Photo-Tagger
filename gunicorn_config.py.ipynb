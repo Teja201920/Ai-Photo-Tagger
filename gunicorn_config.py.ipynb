{
 "cells": [
  {
   "cell_type": "code",
   "execution_count": 2,
   "id": "26c0a726",
   "metadata": {},
   "outputs": [
    {
     "name": "stdout",
     "output_type": "stream",
     "text": [
      "Requirement already satisfied: gunicorn in c:\\users\\abhis\\anaconda3\\lib\\site-packages (21.2.0)\n",
      "Requirement already satisfied: packaging in c:\\users\\abhis\\anaconda3\\lib\\site-packages (from gunicorn) (21.3)\n",
      "Requirement already satisfied: pyparsing!=3.0.5,>=2.0.2 in c:\\users\\abhis\\anaconda3\\lib\\site-packages (from packaging->gunicorn) (3.0.9)\n",
      "Note: you may need to restart the kernel to use updated packages.\n"
     ]
    }
   ],
   "source": [
    "pip install gunicorn\n"
   ]
  },
  {
   "cell_type": "code",
   "execution_count": 9,
   "id": "c25868a7",
   "metadata": {},
   "outputs": [],
   "source": [
    "# gunicorn_config.py\n",
    "\n",
    "bind = '0.0.0.0:8000'  # Bind to all interfaces on port 8000\n",
    "workers = 4  # Number of worker processes\n"
   ]
  },
  {
   "cell_type": "code",
   "execution_count": 8,
   "id": "b0f31383",
   "metadata": {},
   "outputs": [
    {
     "ename": "SyntaxError",
     "evalue": "invalid syntax (1354800473.py, line 1)",
     "output_type": "error",
     "traceback": [
      "\u001b[1;36m  File \u001b[1;32m\"C:\\Users\\abhis\\AppData\\Local\\Temp\\ipykernel_21752\\1354800473.py\"\u001b[1;36m, line \u001b[1;32m1\u001b[0m\n\u001b[1;33m    gunicorn -c gunicorn_config.py app:app\u001b[0m\n\u001b[1;37m                ^\u001b[0m\n\u001b[1;31mSyntaxError\u001b[0m\u001b[1;31m:\u001b[0m invalid syntax\n"
     ]
    }
   ],
   "source": [
    "gunicorn -c gunicorn_config.py app:app\n"
   ]
  }
 ],
 "metadata": {
  "kernelspec": {
   "display_name": "Python 3",
   "language": "python",
   "name": "python3"
  },
  "language_info": {
   "codemirror_mode": {
    "name": "ipython",
    "version": 3
   },
   "file_extension": ".py",
   "mimetype": "text/x-python",
   "name": "python",
   "nbconvert_exporter": "python",
   "pygments_lexer": "ipython3",
   "version": "3.9.13"
  }
 },
 "nbformat": 4,
 "nbformat_minor": 5
}
